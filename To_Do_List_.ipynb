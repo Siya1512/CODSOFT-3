{
  "nbformat": 4,
  "nbformat_minor": 0,
  "metadata": {
    "colab": {
      "provenance": []
    },
    "kernelspec": {
      "name": "python3",
      "display_name": "Python 3"
    },
    "language_info": {
      "name": "python"
    }
  },
  "cells": [
    {
      "cell_type": "code",
      "execution_count": null,
      "metadata": {
        "colab": {
          "base_uri": "https://localhost:8080/"
        },
        "id": "ZTYXP8w7iotC",
        "outputId": "31b935d1-828f-45b2-9d5b-986e3e5b5295"
      },
      "outputs": [
        {
          "output_type": "stream",
          "name": "stdout",
          "text": [
            "\n",
            "To-Do List Menu:\n",
            "1. Add Task\n",
            "2. View Tasks\n",
            "3. Remove Task\n",
            "4. Clear All Tasks\n",
            "5. Exit\n",
            "Enter your choice (1/2/3/4/5): 1\n",
            "Enter the task: workout\n",
            "Task 'workout' added to the To-Do List.\n",
            "\n",
            "To-Do List Menu:\n",
            "1. Add Task\n",
            "2. View Tasks\n",
            "3. Remove Task\n",
            "4. Clear All Tasks\n",
            "5. Exit\n"
          ]
        }
      ],
      "source": [
        "class ToDoList:\n",
        "    def __init__(self):\n",
        "        self.tasks = []\n",
        "\n",
        "    def add_task(self, task):\n",
        "        self.tasks.append(task)\n",
        "        print(f\"Task '{task}' added to the To-Do List.\")\n",
        "\n",
        "    def view_tasks(self):\n",
        "        if not self.tasks:\n",
        "            print(\"To-Do List is empty.\")\n",
        "        else:\n",
        "            print(\"To-Do List:\")\n",
        "            for index, task in enumerate(self.tasks, start=1):\n",
        "                print(f\"{index}. {task}\")\n",
        "\n",
        "    def remove_task(self, task):\n",
        "        if task in self.tasks:\n",
        "            self.tasks.remove(task)\n",
        "            print(f\"Task '{task}' removed from the To-Do List.\")\n",
        "        else:\n",
        "            print(f\"Task '{task}' not found in the To-Do List.\")\n",
        "\n",
        "    def clear_tasks(self):\n",
        "        self.tasks = []\n",
        "        print(\"All tasks cleared from the To-Do List.\")\n",
        "\n",
        "def main():\n",
        "    todo_list = ToDoList()\n",
        "\n",
        "    while True:\n",
        "        print(\"\\nTo-Do List Menu:\")\n",
        "        print(\"1. Add Task\")\n",
        "        print(\"2. View Tasks\")\n",
        "        print(\"3. Remove Task\")\n",
        "        print(\"4. Clear All Tasks\")\n",
        "        print(\"5. Exit\")\n",
        "\n",
        "        choice = input(\"Enter your choice (1/2/3/4/5): \")\n",
        "\n",
        "        if choice == '5':\n",
        "            print(\"Exiting the To-Do List application. Goodbye!\")\n",
        "            break\n",
        "\n",
        "        if choice == '1':\n",
        "            task = input(\"Enter the task: \")\n",
        "            todo_list.add_task(task)\n",
        "\n",
        "        elif choice == '2':\n",
        "            todo_list.view_tasks()\n",
        "\n",
        "        elif choice == '3':\n",
        "            task = input(\"Enter the task to remove: \")\n",
        "            todo_list.remove_task(task)\n",
        "\n",
        "        elif choice == '4':\n",
        "            todo_list.clear_tasks()\n",
        "\n",
        "        else:\n",
        "            print(\"Invalid input. Please enter a valid choice (1/2/3/4/5).\")\n",
        "\n",
        "if __name__ == \"__main__\":\n",
        "    main()\n"
      ]
    },
    {
      "cell_type": "code",
      "source": [],
      "metadata": {
        "id": "p2cuT4AdkOpU"
      },
      "execution_count": null,
      "outputs": []
    }
  ]
}